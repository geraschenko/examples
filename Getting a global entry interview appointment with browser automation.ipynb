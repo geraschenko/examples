{
 "cells": [
  {
   "cell_type": "markdown",
   "metadata": {},
   "source": [
    "# Getting a global entry interview appointment with browser automation\n",
    "\n",
    "## Background\n",
    "I've filled out the paperwork to get [global entry](https://www.cbp.gov/travel/trusted-traveler-programs/global-entry), paid $100, and gotten conditionally approved. All that's left is the interview. It turns out that there are zero interview slots available for the next two years. Yes, really, I called to check. Also, walk-ins are not allowed. This seems to be a [known issue](https://www.sfchronicle.com/business/networth/article/Want-to-schedule-a-Global-Entry-interview-at-SFO-14835643.php).\n",
    "\n",
    "One solution is to do [enrollment on arrival](https://www.cbp.gov/travel/trusted-traveler-programs/global-entry/enrollment-arrival) next time you're returning to the US from an international trip. Appointments also sporadically appear (because of cancellations?), and you can try to snap one up. There's a [twitter bot](https://twitter.com/GOESbot) which watches for and announces these sporadic slots. From the activity of the bot, I saw there were several openings per day, but they were always gone by the time I got to them. So I wrote this tool to check for appointments every minute and notify me if it finds one.\n",
    "\n",
    "## Yeah yeah yeah ... how do I use this?\n",
    "\n",
    "* Get conditionally approved for global entry.\n",
    "* `pip install selenium`\n",
    "* Download a [webdriver binary](https://selenium-python.readthedocs.io/installation.html#drivers) (here I assume ChromeDriver 80).\n",
    "* Put this ipynb in the same directory as the `chromedriver` binary. If you use some other driver, change the cell that starts the webdriver below.\n",
    "* Create a file called `login.py` in the same directory with the following contents:\n",
    "  ```\n",
    "  EMAIL = 'your_email@email.com'\n",
    "  PASSWORD = 'W2rbVeFE3]kXwLu}'\n",
    "  ```\n",
    "* If you want an appointment someplace other than SFO, change `center_id` below. You can find the center id by logging in and inspecting the page source on the appointment page.\n",
    "* Run this notebook. It'll open a browser window, login to your account (you'll have to use your security key or OTP code for the first login), navigate to the appointment page, and click the link to fetch the next available appointment every minute. When it finds an available appointment, it'll announce it through your speakers.\n",
    "* When an available appointment is found, simply finish booking it through the webdriver browser window.\n",
    "\n",
    "## Disclaimers\n",
    "\n",
    "This document is for educational/entertainment purposes only. It is not intended to be executed by a computing machine. Moreover, if it were hypothetically executed by a computing machine, there may well be bugs, especially if there have been any changes to the trusted traveler program web site since this short story was authored. The author does not assume any liability for mental anguish you may experience in contemplating these errors."
   ]
  },
  {
   "cell_type": "code",
   "execution_count": null,
   "metadata": {},
   "outputs": [],
   "source": [
    "import login  # Contains email and password ... you must create this file yourself.\n",
    "\n",
    "center_id = 'US34'  # SFO\n",
    "#center_id = 'US33'  # San Diego\n",
    "seconds_between_tries = 60\n",
    "max_tries = 1 * 60 * 60 // seconds_between_tries"
   ]
  },
  {
   "cell_type": "code",
   "execution_count": null,
   "metadata": {},
   "outputs": [],
   "source": [
    "import time\n",
    "from selenium import webdriver\n",
    "from selenium.common.exceptions import NoSuchElementException, ElementClickInterceptedException\n",
    "import subprocess"
   ]
  },
  {
   "cell_type": "markdown",
   "metadata": {},
   "source": [
    "# Start webdriver"
   ]
  },
  {
   "cell_type": "code",
   "execution_count": null,
   "metadata": {},
   "outputs": [],
   "source": [
    "driver = webdriver.Chrome('./chromedriver')"
   ]
  },
  {
   "cell_type": "markdown",
   "metadata": {},
   "source": [
    "# Login\n",
    "\n",
    "The first time you login after starting the webdriver, you'll need to use a security key or OTP code."
   ]
  },
  {
   "cell_type": "code",
   "execution_count": null,
   "metadata": {},
   "outputs": [],
   "source": [
    "def log_in():\n",
    "    driver.get(\"https://ttp.cbp.dhs.gov\")\n",
    "    time.sleep(1)\n",
    "    driver.find_element_by_css_selector('input.login-button').click()\n",
    "    time.sleep(.5)\n",
    "    driver.find_element_by_css_selector('button.btn-primary').click()\n",
    "    time.sleep(.5)\n",
    "    driver.find_element_by_id('user_email').send_keys(login.EMAIL)\n",
    "    driver.find_element_by_id('user_password').send_keys(login.PASSWORD)\n",
    "    driver.find_element_by_css_selector('input.btn-primary').click()\n",
    "    time.sleep(10)\n",
    "    \n",
    "log_in()"
   ]
  },
  {
   "cell_type": "markdown",
   "metadata": {},
   "source": [
    "Go to appointment scheduling page"
   ]
  },
  {
   "cell_type": "code",
   "execution_count": null,
   "metadata": {},
   "outputs": [],
   "source": [
    "def go_to_page():\n",
    "    b = driver.find_element_by_css_selector('div.middle')\n",
    "    b.find_element_by_css_selector('button.btn-primary').click()\n",
    "    time.sleep(3)\n",
    "    \n",
    "go_to_page()"
   ]
  },
  {
   "cell_type": "markdown",
   "metadata": {},
   "source": [
    "# Try to find an appointment"
   ]
  },
  {
   "cell_type": "code",
   "execution_count": null,
   "metadata": {
    "scrolled": false
   },
   "outputs": [],
   "source": [
    "def wait_till_appointments_fetched(max_tries=100):\n",
    "    while max_tries > 0:\n",
    "        try:\n",
    "            s = driver.find_element_by_css_selector('div.spinner-mask')\n",
    "            time.sleep(.2)\n",
    "            max_tries -= 1\n",
    "        except NoSuchElementException:\n",
    "            break\n",
    "            \n",
    "def notify(text):\n",
    "    print(text)\n",
    "    subprocess.call(['spd-say', text])\n",
    "    subprocess.call(['notify-send', '--urgency=normal', text])\n",
    "\n",
    "for try_num in range(max_tries):\n",
    "    try:\n",
    "        driver.find_element_by_id(f'centerDetails{center_id}').click()\n",
    "        wait_till_appointments_fetched()\n",
    "        box = driver.find_element_by_id(f'popover{center_id}')\n",
    "        appt_text = box.find_element_by_css_selector('div.nextAppointment').text\n",
    "        if appt_text == 'No appointments available for this location':\n",
    "            if try_num % 10 == 0:\n",
    "                print(appt_text)\n",
    "        else:\n",
    "            notify(appt_text)\n",
    "            break\n",
    "        time.sleep(seconds_between_tries)\n",
    "        driver.find_element_by_id(f'popover{center_id}BtnClosePopover').click()\n",
    "    except ElementClickInterceptedException:\n",
    "        # We were logged out.\n",
    "        log_in()\n",
    "        go_to_page()\n",
    "else:\n",
    "    notify('Finished trying without success')"
   ]
  },
  {
   "cell_type": "markdown",
   "metadata": {},
   "source": [
    "# Shutdown webdriver"
   ]
  },
  {
   "cell_type": "code",
   "execution_count": null,
   "metadata": {},
   "outputs": [],
   "source": [
    "driver.close()"
   ]
  }
 ],
 "metadata": {
  "kernelspec": {
   "display_name": "Python 3",
   "language": "python",
   "name": "python3"
  },
  "language_info": {
   "codemirror_mode": {
    "name": "ipython",
    "version": 3
   },
   "file_extension": ".py",
   "mimetype": "text/x-python",
   "name": "python",
   "nbconvert_exporter": "python",
   "pygments_lexer": "ipython3",
   "version": "3.7.5"
  }
 },
 "nbformat": 4,
 "nbformat_minor": 2
}
