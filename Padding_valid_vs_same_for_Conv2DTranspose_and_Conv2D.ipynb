{
  "nbformat": 4,
  "nbformat_minor": 0,
  "metadata": {
    "colab": {
      "name": "Padding valid vs same for Conv2DTranspose and Conv2D",
      "version": "0.3.2",
      "provenance": [],
      "include_colab_link": true
    },
    "kernelspec": {
      "name": "python3",
      "display_name": "Python 3"
    },
    "accelerator": "GPU"
  },
  "cells": [
    {
      "cell_type": "markdown",
      "metadata": {
        "id": "view-in-github",
        "colab_type": "text"
      },
      "source": [
        "<a href=\"https://colab.research.google.com/github/geraschenko/examples/blob/master/Padding_valid_vs_same_for_Conv2DTranspose_and_Conv2D.ipynb\" target=\"_parent\"><img src=\"https://colab.research.google.com/assets/colab-badge.svg\" alt=\"Open In Colab\"/></a>"
      ]
    },
    {
      "metadata": {
        "id": "d7j6WyqGYr7r",
        "colab_type": "code",
        "colab": {
          "base_uri": "https://localhost:8080/",
          "height": 35
        },
        "outputId": "a59f3d16-3496-4f13-8877-1a74035f0fac"
      },
      "cell_type": "code",
      "source": [
        "from __future__ import absolute_import\n",
        "from __future__ import division\n",
        "from __future__ import print_function\n",
        "\n",
        "import keras\n",
        "import keras.backend as K\n",
        "import numpy as np\n",
        "import scipy.stats\n",
        "\n",
        "import matplotlib.pyplot as plt\n",
        "import seaborn as sns\n",
        "sns.set_style('ticks')"
      ],
      "execution_count": 1,
      "outputs": [
        {
          "output_type": "stream",
          "text": [
            "Using TensorFlow backend.\n"
          ],
          "name": "stderr"
        }
      ]
    },
    {
      "metadata": {
        "id": "yhDrv_W4GPsO",
        "colab_type": "text"
      },
      "cell_type": "markdown",
      "source": [
        "# Conv2DTranspose"
      ]
    },
    {
      "metadata": {
        "id": "BfgMSRzbZDjW",
        "colab_type": "code",
        "colab": {
          "base_uri": "https://localhost:8080/",
          "height": 783
        },
        "outputId": "8830f8b5-3dfd-4c65-9008-cbc42c6d8ba9"
      },
      "cell_type": "code",
      "source": [
        "inputs = keras.Input(shape=(10, 10, 1))\n",
        "\n",
        "outputs = keras.layers.Conv2DTranspose(filters=1, kernel_size=3, strides=2, padding='valid')(inputs)\n",
        "valid_model = keras.Model(inputs, outputs)\n",
        "print('padding valid:')\n",
        "valid_model.summary()\n",
        "\n",
        "outputs = keras.layers.Conv2DTranspose(filters=1, kernel_size=3, strides=2, padding='same')(inputs)\n",
        "same_model = keras.Model(inputs, outputs)\n",
        "print('padding same:')\n",
        "same_model.summary()\n",
        "\n",
        "x = keras.layers.Conv2DTranspose(filters=1, kernel_size=3, strides=2, padding='valid')(inputs)\n",
        "outputs = keras.layers.Cropping2D(((0, 1), (0, 1)))(x)\n",
        "my_model = keras.Model(inputs, outputs)\n",
        "print('custom:')\n",
        "my_model.summary()\n",
        "\n",
        "model = valid_model"
      ],
      "execution_count": 2,
      "outputs": [
        {
          "output_type": "stream",
          "text": [
            "WARNING:tensorflow:From /usr/local/lib/python3.6/dist-packages/tensorflow/python/framework/op_def_library.py:263: colocate_with (from tensorflow.python.framework.ops) is deprecated and will be removed in a future version.\n",
            "Instructions for updating:\n",
            "Colocations handled automatically by placer.\n",
            "padding valid:\n",
            "_________________________________________________________________\n",
            "Layer (type)                 Output Shape              Param #   \n",
            "=================================================================\n",
            "input_1 (InputLayer)         (None, 10, 10, 1)         0         \n",
            "_________________________________________________________________\n",
            "conv2d_transpose_1 (Conv2DTr (None, 21, 21, 1)         10        \n",
            "=================================================================\n",
            "Total params: 10\n",
            "Trainable params: 10\n",
            "Non-trainable params: 0\n",
            "_________________________________________________________________\n",
            "padding same:\n",
            "_________________________________________________________________\n",
            "Layer (type)                 Output Shape              Param #   \n",
            "=================================================================\n",
            "input_1 (InputLayer)         (None, 10, 10, 1)         0         \n",
            "_________________________________________________________________\n",
            "conv2d_transpose_2 (Conv2DTr (None, 20, 20, 1)         10        \n",
            "=================================================================\n",
            "Total params: 10\n",
            "Trainable params: 10\n",
            "Non-trainable params: 0\n",
            "_________________________________________________________________\n",
            "custom:\n",
            "_________________________________________________________________\n",
            "Layer (type)                 Output Shape              Param #   \n",
            "=================================================================\n",
            "input_1 (InputLayer)         (None, 10, 10, 1)         0         \n",
            "_________________________________________________________________\n",
            "conv2d_transpose_3 (Conv2DTr (None, 21, 21, 1)         10        \n",
            "_________________________________________________________________\n",
            "cropping2d_1 (Cropping2D)    (None, 20, 20, 1)         0         \n",
            "=================================================================\n",
            "Total params: 10\n",
            "Trainable params: 10\n",
            "Non-trainable params: 0\n",
            "_________________________________________________________________\n"
          ],
          "name": "stdout"
        }
      ]
    },
    {
      "metadata": {
        "colab_type": "code",
        "outputId": "60b8749e-bae4-463b-97e5-8d6af3f93427",
        "id": "vXwXnyFeGZxI",
        "colab": {
          "base_uri": "https://localhost:8080/",
          "height": 146
        }
      },
      "cell_type": "code",
      "source": [
        "train_images = np.random.random((1000,) + model.input_shape[1:])\n",
        "train_labels = np.random.random((1000,) + model.output_shape[1:])\n",
        "\n",
        "model.compile(loss=keras.losses.mean_squared_error, optimizer='adam')\n",
        "model.fit(train_images, train_labels, epochs=1, batch_size=50)"
      ],
      "execution_count": 3,
      "outputs": [
        {
          "output_type": "stream",
          "text": [
            "WARNING:tensorflow:From /usr/local/lib/python3.6/dist-packages/tensorflow/python/ops/math_ops.py:3066: to_int32 (from tensorflow.python.ops.math_ops) is deprecated and will be removed in a future version.\n",
            "Instructions for updating:\n",
            "Use tf.cast instead.\n",
            "Epoch 1/1\n",
            "1000/1000 [==============================] - 3s 3ms/step - loss: 0.3650\n"
          ],
          "name": "stdout"
        },
        {
          "output_type": "execute_result",
          "data": {
            "text/plain": [
              "<keras.callbacks.History at 0x7f9789025a20>"
            ]
          },
          "metadata": {
            "tags": []
          },
          "execution_count": 3
        }
      ]
    },
    {
      "metadata": {
        "colab_type": "code",
        "id": "YUW4-DAIGZxX",
        "colab": {}
      },
      "cell_type": "code",
      "source": [
        "model.save_weights('/tmp/model.h5')\n",
        "valid_model.load_weights('/tmp/model.h5')\n",
        "same_model.load_weights('/tmp/model.h5')\n",
        "my_model.load_weights('/tmp/model.h5')"
      ],
      "execution_count": 0,
      "outputs": []
    },
    {
      "metadata": {
        "colab_type": "code",
        "outputId": "bae50ff2-4f85-46bc-9288-77ed4450133d",
        "id": "_04ChMiiGZxe",
        "colab": {
          "base_uri": "https://localhost:8080/",
          "height": 613
        }
      },
      "cell_type": "code",
      "source": [
        "plt.figure(figsize=(15,10))\n",
        "im = 0.0 * train_images[0, :, :, 0]\n",
        "im[0, 0] = 1.0\n",
        "im[im.shape[0] // 2, im.shape[1] // 2] = 1.0\n",
        "im[-1 + im.shape[0] // 2, -1 + im.shape[1] // 2] = 1.0\n",
        "im[-1, -1] = 1.0\n",
        "im[0, -1] = 1.0\n",
        "im[-1, 0] = 1.0\n",
        "plt.subplot(231)\n",
        "plt.imshow(im)\n",
        "plt.title('input image')\n",
        "\n",
        "plt.subplot(232)\n",
        "plt.imshow(valid_model.get_weights()[0][:,:,0,0])\n",
        "plt.title('kernel')\n",
        "\n",
        "valid_pred = valid_model.predict(im[np.newaxis, :, :, np.newaxis])[0, :, :, 0]\n",
        "plt.subplot(234)\n",
        "plt.imshow(valid_pred)\n",
        "plt.title('padding valid')\n",
        "\n",
        "same_pred = same_model.predict(im[np.newaxis, :, :, np.newaxis])[0, :, :, 0]\n",
        "plt.subplot(235)\n",
        "plt.imshow(same_pred)\n",
        "plt.title('padding same')\n",
        "\n",
        "my_pred = my_model.predict(im[np.newaxis, :, :, np.newaxis])[0, :, :, 0]\n",
        "plt.subplot(236)\n",
        "plt.imshow(my_pred)\n",
        "plt.title('custom')\n",
        "\n",
        "None"
      ],
      "execution_count": 5,
      "outputs": [
        {
          "output_type": "display_data",
          "data": {
            "image/png": "[encoded data removed]",
            "text/plain": [
              "<Figure size 1080x720 with 5 Axes>"
            ]
          },
          "metadata": {
            "tags": []
          }
        }
      ]
    },
    {
      "metadata": {
        "id": "TedlyAGPGh8b",
        "colab_type": "text"
      },
      "cell_type": "markdown",
      "source": [
        "# Conv2D"
      ]
    },
    {
      "metadata": {
        "id": "Bg3wKmEP23-b",
        "colab_type": "code",
        "colab": {
          "base_uri": "https://localhost:8080/",
          "height": 708
        },
        "outputId": "45e75d93-b9b1-4f4a-de3d-a971ab531d8a"
      },
      "cell_type": "code",
      "source": [
        "inputs = keras.Input(shape=(29, 29, 1))\n",
        "\n",
        "outputs = keras.layers.Conv2D(filters=1, kernel_size=5, strides=2, padding='valid')(inputs)\n",
        "valid_model = keras.Model(inputs, outputs)\n",
        "print('padding valid:')\n",
        "valid_model.summary()\n",
        "\n",
        "outputs = keras.layers.Conv2D(filters=1, kernel_size=5, strides=2, padding='same')(inputs)\n",
        "same_model = keras.Model(inputs, outputs)\n",
        "print('padding same:')\n",
        "same_model.summary()\n",
        "\n",
        "x = keras.layers.Conv2D(filters=1, kernel_size=5, strides=2, padding='same')(inputs)\n",
        "outputs = keras.layers.Cropping2D(((0, 1), (0, 1)))(x)\n",
        "my_model = keras.Model(inputs, outputs)\n",
        "print('custom:')\n",
        "my_model.summary()\n",
        "\n",
        "model = same_model"
      ],
      "execution_count": 6,
      "outputs": [
        {
          "output_type": "stream",
          "text": [
            "padding valid:\n",
            "_________________________________________________________________\n",
            "Layer (type)                 Output Shape              Param #   \n",
            "=================================================================\n",
            "input_2 (InputLayer)         (None, 29, 29, 1)         0         \n",
            "_________________________________________________________________\n",
            "conv2d_1 (Conv2D)            (None, 13, 13, 1)         26        \n",
            "=================================================================\n",
            "Total params: 26\n",
            "Trainable params: 26\n",
            "Non-trainable params: 0\n",
            "_________________________________________________________________\n",
            "padding same:\n",
            "_________________________________________________________________\n",
            "Layer (type)                 Output Shape              Param #   \n",
            "=================================================================\n",
            "input_2 (InputLayer)         (None, 29, 29, 1)         0         \n",
            "_________________________________________________________________\n",
            "conv2d_2 (Conv2D)            (None, 15, 15, 1)         26        \n",
            "=================================================================\n",
            "Total params: 26\n",
            "Trainable params: 26\n",
            "Non-trainable params: 0\n",
            "_________________________________________________________________\n",
            "custom:\n",
            "_________________________________________________________________\n",
            "Layer (type)                 Output Shape              Param #   \n",
            "=================================================================\n",
            "input_2 (InputLayer)         (None, 29, 29, 1)         0         \n",
            "_________________________________________________________________\n",
            "conv2d_3 (Conv2D)            (None, 15, 15, 1)         26        \n",
            "_________________________________________________________________\n",
            "cropping2d_2 (Cropping2D)    (None, 14, 14, 1)         0         \n",
            "=================================================================\n",
            "Total params: 26\n",
            "Trainable params: 26\n",
            "Non-trainable params: 0\n",
            "_________________________________________________________________\n"
          ],
          "name": "stdout"
        }
      ]
    },
    {
      "metadata": {
        "id": "DZAW0ZNkZs0b",
        "colab_type": "code",
        "colab": {
          "base_uri": "https://localhost:8080/",
          "height": 72
        },
        "outputId": "2584a7d6-e185-4dcb-8c30-09ce5fd1898f"
      },
      "cell_type": "code",
      "source": [
        "train_images = np.random.random((1000,) + model.input_shape[1:])\n",
        "train_labels = np.random.random((1000,) + model.output_shape[1:])\n",
        "\n",
        "model.compile(loss=keras.losses.mean_squared_error, optimizer='adam')\n",
        "model.fit(train_images, train_labels, epochs=1, batch_size=50)"
      ],
      "execution_count": 7,
      "outputs": [
        {
          "output_type": "stream",
          "text": [
            "Epoch 1/1\n",
            "1000/1000 [==============================] - 0s 493us/step - loss: 0.2541\n"
          ],
          "name": "stdout"
        },
        {
          "output_type": "execute_result",
          "data": {
            "text/plain": [
              "<keras.callbacks.History at 0x7f9740339cc0>"
            ]
          },
          "metadata": {
            "tags": []
          },
          "execution_count": 7
        }
      ]
    },
    {
      "metadata": {
        "id": "rBv9uy9xoIdg",
        "colab_type": "code",
        "colab": {}
      },
      "cell_type": "code",
      "source": [
        "model.save_weights('/tmp/model.h5')\n",
        "valid_model.load_weights('/tmp/model.h5')\n",
        "same_model.load_weights('/tmp/model.h5')\n",
        "my_model.load_weights('/tmp/model.h5')"
      ],
      "execution_count": 0,
      "outputs": []
    },
    {
      "metadata": {
        "id": "1hjGFjZacRTy",
        "colab_type": "code",
        "colab": {
          "base_uri": "https://localhost:8080/",
          "height": 613
        },
        "outputId": "13e90bfd-838b-459b-a688-48d1ac9b963b"
      },
      "cell_type": "code",
      "source": [
        "plt.figure(figsize=(15,10))\n",
        "im = 0.0 * train_images[0, :, :, 0]\n",
        "im[0, 0] = 1.0\n",
        "im[im.shape[0] // 2, im.shape[1] // 2] = 1.0\n",
        "im[-1, -1] = 1.0\n",
        "im[0, -1] = 1.0\n",
        "im[-1, 0] = 1.0\n",
        "plt.subplot(231)\n",
        "plt.imshow(im)\n",
        "plt.title('input image')\n",
        "\n",
        "plt.subplot(232)\n",
        "plt.imshow(valid_model.get_weights()[0][:,:,0,0])\n",
        "plt.title('kernel')\n",
        "\n",
        "valid_pred = valid_model.predict(im[np.newaxis, :, :, np.newaxis])[0, :, :, 0]\n",
        "plt.subplot(234)\n",
        "plt.imshow(valid_pred)\n",
        "plt.title('padding valid')\n",
        "\n",
        "same_pred = same_model.predict(im[np.newaxis, :, :, np.newaxis])[0, :, :, 0]\n",
        "plt.subplot(235)\n",
        "plt.imshow(same_pred)\n",
        "plt.title('padding same')\n",
        "\n",
        "my_pred = my_model.predict(im[np.newaxis, :, :, np.newaxis])[0, :, :, 0]\n",
        "plt.subplot(236)\n",
        "plt.imshow(my_pred)\n",
        "plt.title('custom')\n",
        "\n",
        "None"
      ],
      "execution_count": 9,
      "outputs": [
        {
          "output_type": "display_data",
          "data": {
            "image/png": "[encoded data removed]",
            "text/plain": [
              "<Figure size 1080x720 with 5 Axes>"
            ]
          },
          "metadata": {
            "tags": []
          }
        }
      ]
    }
  ]
}